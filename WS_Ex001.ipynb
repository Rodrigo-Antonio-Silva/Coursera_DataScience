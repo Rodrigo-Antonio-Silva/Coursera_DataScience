{
    "cells": [
        {
            "cell_type": "markdown",
            "metadata": {
                "collapsed": true
            },
            "source": "# Primeiro Notebook Watson Studio"
        },
        {
            "cell_type": "code",
            "execution_count": 3,
            "metadata": {},
            "outputs": [
                {
                    "data": {
                        "text/html": "<div>\n<style scoped>\n    .dataframe tbody tr th:only-of-type {\n        vertical-align: middle;\n    }\n\n    .dataframe tbody tr th {\n        vertical-align: top;\n    }\n\n    .dataframe thead th {\n        text-align: right;\n    }\n</style>\n<table border=\"1\" class=\"dataframe\">\n  <thead>\n    <tr style=\"text-align: right;\">\n      <th></th>\n      <th>Loja</th>\n      <th>Cidade</th>\n      <th>Estado</th>\n    </tr>\n  </thead>\n  <tbody>\n    <tr>\n      <th>0</th>\n      <td>SP8821</td>\n      <td>S\u00e3o Paulo</td>\n      <td>S\u00e3o Paulo</td>\n    </tr>\n    <tr>\n      <th>1</th>\n      <td>A9990</td>\n      <td>Belo Horizonte</td>\n      <td>Minas Gerais</td>\n    </tr>\n    <tr>\n      <th>2</th>\n      <td>SP8823</td>\n      <td>S\u00e3o Paulo</td>\n      <td>S\u00e3o Paulo</td>\n    </tr>\n    <tr>\n      <th>3</th>\n      <td>R1296</td>\n      <td>Rio de Janeiro</td>\n      <td>Rio de Janeiro</td>\n    </tr>\n    <tr>\n      <th>4</th>\n      <td>V7654</td>\n      <td>Vit\u00f3ria</td>\n      <td>Esp\u00edrito Santo</td>\n    </tr>\n  </tbody>\n</table>\n</div>",
                        "text/plain": "     Loja          Cidade          Estado\n0  SP8821       S\u00e3o Paulo       S\u00e3o Paulo\n1   A9990  Belo Horizonte    Minas Gerais\n2  SP8823       S\u00e3o Paulo       S\u00e3o Paulo\n3   R1296  Rio de Janeiro  Rio de Janeiro\n4   V7654         Vit\u00f3ria  Esp\u00edrito Santo"
                    },
                    "execution_count": 3,
                    "metadata": {},
                    "output_type": "execute_result"
                }
            ],
            "source": "# The code was removed by Watson Studio for sharing."
        },
        {
            "cell_type": "code",
            "execution_count": 4,
            "metadata": {},
            "outputs": [
                {
                    "data": {
                        "text/html": "<div>\n<style scoped>\n    .dataframe tbody tr th:only-of-type {\n        vertical-align: middle;\n    }\n\n    .dataframe tbody tr th {\n        vertical-align: top;\n    }\n\n    .dataframe thead th {\n        text-align: right;\n    }\n</style>\n<table border=\"1\" class=\"dataframe\">\n  <thead>\n    <tr style=\"text-align: right;\">\n      <th></th>\n      <th>Loja</th>\n      <th>Cidade</th>\n      <th>Estado</th>\n    </tr>\n  </thead>\n  <tbody>\n    <tr>\n      <th>count</th>\n      <td>14</td>\n      <td>14</td>\n      <td>14</td>\n    </tr>\n    <tr>\n      <th>unique</th>\n      <td>14</td>\n      <td>10</td>\n      <td>6</td>\n    </tr>\n    <tr>\n      <th>top</th>\n      <td>SP8821</td>\n      <td>S\u00e3o Paulo</td>\n      <td>S\u00e3o Paulo</td>\n    </tr>\n    <tr>\n      <th>freq</th>\n      <td>1</td>\n      <td>3</td>\n      <td>5</td>\n    </tr>\n  </tbody>\n</table>\n</div>",
                        "text/plain": "          Loja     Cidade     Estado\ncount       14         14         14\nunique      14         10          6\ntop     SP8821  S\u00e3o Paulo  S\u00e3o Paulo\nfreq         1          3          5"
                    },
                    "execution_count": 4,
                    "metadata": {},
                    "output_type": "execute_result"
                }
            ],
            "source": "df_data_1.describe()"
        },
        {
            "cell_type": "code",
            "execution_count": 6,
            "metadata": {},
            "outputs": [
                {
                    "name": "stdout",
                    "output_type": "stream",
                    "text": "<class 'pandas.core.frame.DataFrame'>\nRangeIndex: 14 entries, 0 to 13\nData columns (total 3 columns):\n #   Column  Non-Null Count  Dtype \n---  ------  --------------  ----- \n 0   Loja    14 non-null     object\n 1   Cidade  14 non-null     object\n 2   Estado  14 non-null     object\ndtypes: object(3)\nmemory usage: 464.0+ bytes\n"
                }
            ],
            "source": "df_data_1.info()"
        },
        {
            "cell_type": "code",
            "execution_count": 11,
            "metadata": {},
            "outputs": [],
            "source": "vsl = df_data_1.Estado.value_counts()"
        },
        {
            "cell_type": "code",
            "execution_count": 15,
            "metadata": {},
            "outputs": [
                {
                    "data": {
                        "text/plain": "<AxesSubplot:>"
                    },
                    "execution_count": 15,
                    "metadata": {},
                    "output_type": "execute_result"
                },
                {
                    "data": {
                        "image/png": "[encoded data removed]",
                        "text/plain": "<Figure size 432x288 with 1 Axes>"
                    },
                    "metadata": {
                        "needs_background": "light"
                    },
                    "output_type": "display_data"
                }
            ],
            "source": "vsl.plot.bar()"
        },
        {
            "cell_type": "code",
            "execution_count": null,
            "metadata": {},
            "outputs": [],
            "source": ""
        }
    ],
    "metadata": {
        "kernelspec": {
            "display_name": "Python 3.9",
            "language": "python",
            "name": "python3"
        },
        "language_info": {
            "codemirror_mode": {
                "name": "ipython",
                "version": 3
            },
            "file_extension": ".py",
            "mimetype": "text/x-python",
            "name": "python",
            "nbconvert_exporter": "python",
            "pygments_lexer": "ipython3",
            "version": "3.9.12"
        }
    },
    "nbformat": 4,
    "nbformat_minor": 1
}