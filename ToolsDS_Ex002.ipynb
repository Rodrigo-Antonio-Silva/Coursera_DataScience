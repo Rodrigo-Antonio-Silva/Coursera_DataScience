{
    "cells": [
        {
            "metadata": {
                "collapsed": true
            },
            "cell_type": "markdown",
            "source": "# My Jupyter Notebook on IBM Watson Studio"
        },
        {
            "metadata": {},
            "cell_type": "markdown",
            "source": "Name: **Rodrigo Antonio da Silva**  \nDesired Occupation: Data Scientist"
        },
        {
            "metadata": {},
            "cell_type": "markdown",
            "source": "*I am interested in data science because I believe that I have the characteristics of a data scientist.  \nI a curious guy that likes to discover new things and learn about different things.  \nNowadays I work with  programming what's very fun. \nI'm graduate in Business Administration and studied Economy,  \nso math and statistics aren\u00b4t a problem to me. \nBecause of that I Believe I can be a good Data Scientist.*"
        },
        {
            "metadata": {},
            "cell_type": "markdown",
            "source": "### In the code below I made a for looping on Python to print multiplus of 5 of one to ten."
        },
        {
            "metadata": {},
            "cell_type": "code",
            "source": "for i in range (1, 11):\n    print(f'{i} X 5 = {i * 5}')",
            "execution_count": 2,
            "outputs": [
                {
                    "output_type": "stream",
                    "text": "1 X 5 = 5\n2 X 5 = 10\n3 X 5 = 15\n4 X 5 = 20\n5 X 5 = 25\n6 X 5 = 30\n7 X 5 = 35\n8 X 5 = 40\n9 X 5 = 45\n10 X 5 = 50\n",
                    "name": "stdout"
                }
            ]
        },
        {
            "metadata": {},
            "cell_type": "markdown",
            "source": "A data scientist must understand about:   \n1. Computer science  \n2. Statistics  \n3. Business insights\n\nComputer Languages:\n* Python\n* R\n* Scala\n\n#### Languages/Packages\n\n\nLanguage | Package\n-------- | -------\nPython   | Pandas\nPython   | Numpy\nPython   |Matplotlib\nR        |ggplot2\nR        |dplyr\n\n<https://github.com/Rodrigo-Antonio-Silva>"
        },
        {
            "metadata": {},
            "cell_type": "code",
            "source": "",
            "execution_count": null,
            "outputs": []
        }
    ],
    "metadata": {
        "kernelspec": {
            "name": "python3",
            "display_name": "Python 3.9",
            "language": "python"
        },
        "language_info": {
            "name": "python",
            "version": "3.9.12",
            "mimetype": "text/x-python",
            "codemirror_mode": {
                "name": "ipython",
                "version": 3
            },
            "pygments_lexer": "ipython3",
            "nbconvert_exporter": "python",
            "file_extension": ".py"
        }
    },
    "nbformat": 4,
    "nbformat_minor": 1
}